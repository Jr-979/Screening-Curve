{
 "cells": [
  {
   "cell_type": "code",
   "execution_count": 14,
   "metadata": {},
   "outputs": [],
   "source": [
    "import pandas as pd\n",
    "import numpy as np\n",
    "from matplotlib import pyplot as plt\n",
    "from math import e,pow"
   ]
  },
  {
   "cell_type": "code",
   "execution_count": 15,
   "metadata": {},
   "outputs": [
    {
     "data": {
      "text/html": [
       "<div>\n",
       "<style scoped>\n",
       "    .dataframe tbody tr th:only-of-type {\n",
       "        vertical-align: middle;\n",
       "    }\n",
       "\n",
       "    .dataframe tbody tr th {\n",
       "        vertical-align: top;\n",
       "    }\n",
       "\n",
       "    .dataframe thead th {\n",
       "        text-align: right;\n",
       "    }\n",
       "</style>\n",
       "<table border=\"1\" class=\"dataframe\">\n",
       "  <thead>\n",
       "    <tr style=\"text-align: right;\">\n",
       "      <th></th>\n",
       "      <th>StationName</th>\n",
       "      <th>OvernightCost</th>\n",
       "      <th>FuelCost</th>\n",
       "      <th>LifeOfPlant</th>\n",
       "      <th>DiscountRate</th>\n",
       "    </tr>\n",
       "  </thead>\n",
       "  <tbody>\n",
       "    <tr>\n",
       "      <th>0</th>\n",
       "      <td>Gas</td>\n",
       "      <td>432.33</td>\n",
       "      <td>51.4</td>\n",
       "      <td>10</td>\n",
       "      <td>0.2</td>\n",
       "    </tr>\n",
       "    <tr>\n",
       "      <th>1</th>\n",
       "      <td>Coal</td>\n",
       "      <td>1097.30</td>\n",
       "      <td>18.3</td>\n",
       "      <td>30</td>\n",
       "      <td>0.2</td>\n",
       "    </tr>\n",
       "    <tr>\n",
       "      <th>2</th>\n",
       "      <td>Combine Cycle</td>\n",
       "      <td>613.60</td>\n",
       "      <td>32.5</td>\n",
       "      <td>20</td>\n",
       "      <td>0.2</td>\n",
       "    </tr>\n",
       "  </tbody>\n",
       "</table>\n",
       "</div>"
      ],
      "text/plain": [
       "     StationName  OvernightCost  FuelCost  LifeOfPlant  DiscountRate\n",
       "0            Gas         432.33      51.4           10           0.2\n",
       "1           Coal        1097.30      18.3           30           0.2\n",
       "2  Combine Cycle         613.60      32.5           20           0.2"
      ]
     },
     "execution_count": 15,
     "metadata": {},
     "output_type": "execute_result"
    }
   ],
   "source": [
    "pd.read_csv(filename)"
   ]
  },
  {
   "cell_type": "code",
   "execution_count": 16,
   "metadata": {},
   "outputs": [],
   "source": [
    "class PowerStation:\n",
    "    def __init__(self, StationName, OvernightCost,\n",
    "                        FuelCost, LifeOfPlant, DiscountRate) -> None:\n",
    "        self.stName = StationName\n",
    "        self.OC = OvernightCost\n",
    "        # M --> k hr --> yr\n",
    "        self.fuel = round(FuelCost * 8.76,2)\n",
    "        self.T = LifeOfPlant\n",
    "        self.r = DiscountRate\n",
    "\n",
    "        # From Fixed cost formular \n",
    "        # FC = (r * OC) / (1-1/(1+r)^T)\n",
    "        # self.FC = (self.r * self.OC)/(1- 1/(1+self.r)**self.T)\n",
    "        # self.FC = (self.r * self.OC)/(1- e**(-(self.r*self.T)))\n",
    "        self.FC = (self.r * self.OC)/(1- pow(e,(-1*(self.r*self.T))))\n",
    "\n",
    "        # Variable cost calculated from fuel cost\n",
    "        # VC = Fuel cost\n",
    "        self.VC = self.fuel\n",
    "\n",
    "        # Calculate flag\n",
    "        self.isCalculated = False\n",
    "        # Using memolization technique for reduced time complexity\n",
    "        self._memo = {}\n",
    "\n",
    "    def calculateARR(self,capacityFactor):\n",
    "\n",
    "        self._memo[capacityFactor] = self.FC + capacityFactor*self.VC\n",
    "\n",
    "        if capacityFactor >= 1.0: \n",
    "            self.isCalculated = True\n",
    "\n",
    "        return self._memo[capacityFactor]\n",
    "\n",
    "    def plot(self):\n",
    "        if not self.isCalculated:\n",
    "            raise ValueError(\"Please complete the itteration with calculateARR first\")\n",
    "\n",
    "        plt.plot(*zip(*sorted(self._memo.items())),label = self.stName)\n",
    "\n",
    "\n",
    "    def __str__(self):\n",
    "        return f\"Station name : {self.stName}{chr(10)}Overnight Cost : {self.OC}{chr(10)}Fuel Cost : {self.fuel}{chr(10)}Life of plant : {self.T}{chr(10)}Discount rate : {self.r}\"\n",
    "\n"
   ]
  },
  {
   "cell_type": "code",
   "execution_count": 17,
   "metadata": {},
   "outputs": [],
   "source": [
    "filename = \"new.csv\"\n",
    "stations = pd.read_csv(filename).to_dict('records')\n",
    "stations = [PowerStation(**station) for station in stations]"
   ]
  },
  {
   "cell_type": "code",
   "execution_count": 18,
   "metadata": {},
   "outputs": [
    {
     "name": "stdout",
     "output_type": "stream",
     "text": [
      "Screening Curve\n",
      "Cheapest to run when CF < 0.15107 : Gas  : 1323.37 hr\n",
      "Cheapest to run when CF < 0.7637 : Coal  : 6690.01 hr\n",
      "Cheapest to run when CF > 0.7637 : Combine Cycle : 6690.01 hr\n"
     ]
    },
    {
     "data": {
      "image/png": "[encoded data removed]",
      "text/plain": [
       "<Figure size 640x480 with 1 Axes>"
      ]
     },
     "metadata": {},
     "output_type": "display_data"
    }
   ],
   "source": [
    "# Create linear space for numerical calculation\n",
    "step_size = 1e-5\n",
    "CF = np.arange(0,1.0+step_size,step_size).round(5).tolist()\n",
    "\n",
    "# print(*stations,sep=\"\\n\\n\")\n",
    "minARR = {}\n",
    "indexMin = {}\n",
    "intersectionx ,intersectiony, intersectionpoint = [],[],[]\n",
    "pointPrev = -1\n",
    "\n",
    "for cf in CF:\n",
    "    results = []\n",
    "    for station in stations:\n",
    "        results.append(station.calculateARR(capacityFactor= cf))\n",
    "\n",
    "    minARR[cf] = min(results)\n",
    "\n",
    "    point = indexMin [cf]= min(range(len(results)),key=results.__getitem__)\n",
    "    if point != pointPrev:\n",
    "        if cf != 0.0:\n",
    "            intersectionx.append(cf)\n",
    "            intersectiony.append(min(results))\n",
    "            intersectionpoint.append(pointPrev)\n",
    "        \n",
    "    pointPrev = point\n",
    "\n",
    "else:\n",
    "    intersectionpoint.append(min(range(len(results)),key=results.__getitem__))\n",
    "\n",
    "print(\"Screening Curve\")\n",
    "for idx, x in enumerate(intersectionx):\n",
    "    print(f\"Cheapest to run when CF < {round(x,5)} : {stations[idx].stName}  : {round(x*8760,2)} hr\" )\n",
    "else:\n",
    "    print(f\"Cheapest to run when CF > {round(intersectionx[-1],5)} : {stations[-1].stName} : {round(x*8760,2)} hr\" )\n",
    "\n",
    "\n",
    "for station in stations:\n",
    "    # stationsItem.append(zip(*sorted(station._memo.items())))\n",
    "    plt.plot(*zip(*sorted(station._memo.items())),label = station.stName)\n",
    "\n",
    "plt.plot(intersectionx,intersectiony,marker = \"o\", markersize=5)\n",
    "plt.legend()\n",
    "plt.show()\n",
    "\n"
   ]
  },
  {
   "cell_type": "code",
   "execution_count": null,
   "metadata": {},
   "outputs": [],
   "source": []
  }
 ],
 "metadata": {
  "kernelspec": {
   "display_name": "Python 3",
   "language": "python",
   "name": "python3"
  },
  "language_info": {
   "codemirror_mode": {
    "name": "ipython",
    "version": 3
   },
   "file_extension": ".py",
   "mimetype": "text/x-python",
   "name": "python",
   "nbconvert_exporter": "python",
   "pygments_lexer": "ipython3",
   "version": "3.8.10"
  },
  "orig_nbformat": 4,
  "vscode": {
   "interpreter": {
    "hash": "916dbcbb3f70747c44a77c7bcd40155683ae19c65e1c03b4aa3499c5328201f1"
   }
  }
 },
 "nbformat": 4,
 "nbformat_minor": 2
}
