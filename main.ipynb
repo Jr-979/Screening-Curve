{
 "cells": [
  {
   "cell_type": "code",
   "execution_count": 96,
   "metadata": {},
   "outputs": [],
   "source": [
    "import pandas as pd\n",
    "import numpy as np\n",
    "from matplotlib import pyplot as plt\n",
    "from math import e,pow"
   ]
  },
  {
   "cell_type": "code",
   "execution_count": 97,
   "metadata": {},
   "outputs": [],
   "source": [
    "class PowerStation:\n",
    "    def __init__(self, StationName, OvernightCost,\n",
    "                        FuelCost, LifeOfPlant, DiscountRate) -> None:\n",
    "        self.stName = StationName\n",
    "        self.OC = OvernightCost\n",
    "        # M --> k hr --> yr\n",
    "        self.fuel = round(FuelCost * 8.76,2)\n",
    "        self.T = LifeOfPlant\n",
    "        self.r = DiscountRate\n",
    "\n",
    "        # From Fixed cost formular \n",
    "        # FC = (r * OC) / (1-1/(1+r)^T)\n",
    "        self.FC = (self.r * self.OC)/(1- pow(e,(-1*(self.r*self.T))))\n",
    "\n",
    "        # Variable cost calculated from fuel cost\n",
    "        # VC = Fuel cost\n",
    "        self.VC = self.fuel\n",
    "\n",
    "        # Calculate flag\n",
    "        self.isCalculated = False\n",
    "        # Using memolization technique for reduced time complexity\n",
    "        self._memo = {}\n",
    "\n",
    "    def calculateARR(self,capacityFactor : float) -> float:\n",
    "        # Calcuate ARR by using formular ARR = fixed cost + capacity factor * variable cost\n",
    "        self._memo[capacityFactor] = self.FC + capacityFactor*self.VC\n",
    "\n",
    "        # Set the stop iteration flag when CF = 1.0\n",
    "        if capacityFactor >= 1.0: \n",
    "            self.isCalculated = True\n",
    "\n",
    "        # Store calculated value as hash map for later use\n",
    "        return self._memo[capacityFactor]\n",
    "\n",
    "    def plot(self)-> None:\n",
    "        # Plot store values\n",
    "        if not self.isCalculated:\n",
    "            raise ValueError(\"Please complete the itteration with calculateARR first\")\n",
    "\n",
    "        plt.plot(*zip(*sorted(self._memo.items())),label = self.stName)\n",
    "\n",
    "\n",
    "    def __str__(self)-> str:\n",
    "        return f\"Station name : {self.stName}{chr(10)}Overnight Cost : {self.OC}{chr(10)}Fuel Cost : {self.fuel}{chr(10)}Life of plant : {self.T}{chr(10)}Discount rate : {self.r}\"\n",
    "\n"
   ]
  },
  {
   "cell_type": "code",
   "execution_count": 98,
   "metadata": {},
   "outputs": [],
   "source": [
    "# Get stations parameter from the csv file\n",
    "filename = \"new.csv\"\n",
    "stations = pd.read_csv(filename).to_dict('records')\n",
    "\n",
    "# Check for CSV compatibility\n",
    "for station in stations:\n",
    "    header = ['StationName', 'OvernightCost', 'FuelCost', 'LifeOfPlant', 'DiscountRate']\n",
    "    # Check CSV header\n",
    "    if not list(station.keys()) == header:\n",
    "        mismatch = [i for i, (a, b) in enumerate(zip(list(station.keys()), header)) if a != b]\n",
    "        for mis in mismatch: print(f\"Your CSV file are missing : {header[mis]}\")\n",
    "        raise ValueError(\"Given CSV file is not compatible\")\n",
    "\n",
    "    # Check each value data types  \n",
    "    for value in header[1:]:\n",
    "        if (type(station[value]) is str) :\n",
    "            raise ValueError(f\"{''.join([' '+ s if s.isupper()  else s for s in value]).lstrip()} should be a number\")\n",
    "\n",
    "\n",
    "# Create an PowerStation object from the parameter\n",
    "stations = [PowerStation(**station) for station in stations]"
   ]
  },
  {
   "cell_type": "code",
   "execution_count": 99,
   "metadata": {},
   "outputs": [
    {
     "data": {
      "text/html": [
       "<div>\n",
       "<style scoped>\n",
       "    .dataframe tbody tr th:only-of-type {\n",
       "        vertical-align: middle;\n",
       "    }\n",
       "\n",
       "    .dataframe tbody tr th {\n",
       "        vertical-align: top;\n",
       "    }\n",
       "\n",
       "    .dataframe thead th {\n",
       "        text-align: right;\n",
       "    }\n",
       "</style>\n",
       "<table border=\"1\" class=\"dataframe\">\n",
       "  <thead>\n",
       "    <tr style=\"text-align: right;\">\n",
       "      <th></th>\n",
       "      <th>StationName</th>\n",
       "      <th>OvernightCost</th>\n",
       "      <th>FuelCost</th>\n",
       "      <th>LifeOfPlant</th>\n",
       "      <th>DiscountRate</th>\n",
       "    </tr>\n",
       "  </thead>\n",
       "  <tbody>\n",
       "    <tr>\n",
       "      <th>0</th>\n",
       "      <td>Gas</td>\n",
       "      <td>432.33</td>\n",
       "      <td>51.4</td>\n",
       "      <td>10</td>\n",
       "      <td>0.2</td>\n",
       "    </tr>\n",
       "    <tr>\n",
       "      <th>1</th>\n",
       "      <td>Coal</td>\n",
       "      <td>1097.30</td>\n",
       "      <td>18.3</td>\n",
       "      <td>30</td>\n",
       "      <td>0.2</td>\n",
       "    </tr>\n",
       "    <tr>\n",
       "      <th>2</th>\n",
       "      <td>Combine Cycle</td>\n",
       "      <td>613.60</td>\n",
       "      <td>32.5</td>\n",
       "      <td>20</td>\n",
       "      <td>0.2</td>\n",
       "    </tr>\n",
       "  </tbody>\n",
       "</table>\n",
       "</div>"
      ],
      "text/plain": [
       "     StationName  OvernightCost  FuelCost  LifeOfPlant  DiscountRate\n",
       "0            Gas         432.33      51.4           10           0.2\n",
       "1           Coal        1097.30      18.3           30           0.2\n",
       "2  Combine Cycle         613.60      32.5           20           0.2"
      ]
     },
     "execution_count": 99,
     "metadata": {},
     "output_type": "execute_result"
    }
   ],
   "source": [
    "# CSV viewer\n",
    "pd.read_csv(filename)"
   ]
  },
  {
   "cell_type": "code",
   "execution_count": 100,
   "metadata": {},
   "outputs": [
    {
     "name": "stdout",
     "output_type": "stream",
     "text": [
      "Screening Curve\n",
      "Cheapest to run when CF < 0.151 : Gas  : 1322.76 hr\n",
      "Cheapest to run when CF < 0.764 : Coal  : 6692.64 hr\n",
      "Cheapest to run when CF > 0.764 : Combine Cycle : 6692.64 hr\n"
     ]
    },
    {
     "data": {
      "image/png": "[encoded data removed]",
      "text/plain": [
       "<Figure size 432x288 with 1 Axes>"
      ]
     },
     "metadata": {
      "needs_background": "light"
     },
     "output_type": "display_data"
    }
   ],
   "source": [
    "# Create linear space for numerical calculation\n",
    "step_size = 1e-5\n",
    "CF = np.arange(0,1.0+step_size,step_size).round(5).tolist()\n",
    "\n",
    "# Initialize space for intersetion point\n",
    "intersectionx ,intersectiony = [],[]\n",
    "pointPrev = -1\n",
    "\n",
    "# Iterate capacity factor value from 0 to 1.0 \n",
    "for cf in CF:\n",
    "    results = []\n",
    "    # Loop through every station\n",
    "    for station in stations:\n",
    "        results.append(station.calculateARR(capacityFactor= cf))\n",
    "\n",
    "    # Find the lowest prices generators\n",
    "    point = min(range(len(results)),key=results.__getitem__)\n",
    "\n",
    "    # If current generator no longer the cheapest -> Intersection point occur\n",
    "    if point != pointPrev:\n",
    "        if cf != 0.0:\n",
    "            intersectionx.append(cf)\n",
    "            intersectiony.append(min(results))\n",
    "        \n",
    "    pointPrev = point\n",
    "\n",
    "else:\n",
    "    # Show the result\n",
    "    print(\"Screening Curve\")\n",
    "    if not intersectionx:\n",
    "        print(f\"Cheapest to run when CF < {1.0} : {stations[point].stName}  : {8760} hr\" )\n",
    "\n",
    "\n",
    "for idx, x in enumerate(intersectionx):\n",
    "    print(f\"Cheapest to run when CF < {round(x,3)} : {stations[idx].stName}  : {round(round(x,3)*8760,2)} hr\" )\n",
    "else:\n",
    "    try:\n",
    "        print(f\"Cheapest to run when CF > {round(intersectionx[-1],3)} : {stations[-1].stName} : {round(round(intersectionx[-1],3)*8760,2)} hr\" )\n",
    "    except IndexError:\n",
    "        pass \n",
    "\n",
    "# Show the plot\n",
    "for station in stations : station.plot()\n",
    "plt.plot(intersectionx,intersectiony,marker = \"o\", markersize=5)\n",
    "plt.legend()\n",
    "plt.show()\n",
    "\n"
   ]
  },
  {
   "cell_type": "code",
   "execution_count": null,
   "metadata": {},
   "outputs": [],
   "source": []
  }
 ],
 "metadata": {
  "kernelspec": {
   "display_name": "Python 3.8.3 64-bit",
   "language": "python",
   "name": "python3"
  },
  "language_info": {
   "codemirror_mode": {
    "name": "ipython",
    "version": 3
   },
   "file_extension": ".py",
   "mimetype": "text/x-python",
   "name": "python",
   "nbconvert_exporter": "python",
   "pygments_lexer": "ipython3",
   "version": "3.8.3"
  },
  "orig_nbformat": 4,
  "vscode": {
   "interpreter": {
    "hash": "aee8b7b246df8f9039afb4144a1f6fd8d2ca17a180786b69acc140d282b71a49"
   }
  }
 },
 "nbformat": 4,
 "nbformat_minor": 2
}
